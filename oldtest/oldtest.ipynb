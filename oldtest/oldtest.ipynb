{
 "cells": [
  {
   "cell_type": "code",
   "execution_count": 13,
   "id": "dd606f7f",
   "metadata": {},
   "outputs": [],
   "source": [
    "import oldpf as pf\n",
    "import oldcf as cf\n",
    "from oldutils import Element, KComplexity, Associations"
   ]
  },
  {
   "cell_type": "code",
   "execution_count": 14,
   "id": "67d013a8",
   "metadata": {},
   "outputs": [],
   "source": [
    "a = Element('A1','A','1')\n",
    "b = Element('A2','A','2')\n",
    "c = Element('B1','B','1')\n",
    "d = Element('B2','B','2')"
   ]
  },
  {
   "cell_type": "code",
   "execution_count": 15,
   "id": "162df936",
   "metadata": {},
   "outputs": [
    {
     "name": "stdout",
     "output_type": "stream",
     "text": [
      "18\n",
      "{'add': 0, 'append': 2, 'check_if_same_type': 0, 'dim_set': 0, 'flip': 2, 'implement': 0, 'list_create': 0, 'merge': 0, 'pair': 0, 'remove': 0, 'remove_item': 0, 'sample': 8, 'setminus': 6, 'write_all': 0, 'write_all_set': 0, 'write_random': 0}\n",
      "Result: [Element(object=A1, attribute 1=A, attribute 2=1), Element(object=A2, attribute 1=A, attribute 2=2), Element(object=B2, attribute 1=B, attribute 2=2), Element(object=B1, attribute 1=B, attribute 2=1)]\n",
      "Elapsed time: 4.650000482797623e-05\n"
     ]
    }
   ],
   "source": [
    "train_1 = {a,b,c,d}\n",
    "kc = KComplexity()\n",
    "result, time_elapsed = cf.iterate(train_1)\n",
    "print(kc.get_k_complexity())\n",
    "print(kc.get_prim_counts())\n",
    "print(\"Result:\", result)\n",
    "print(\"Elapsed time:\", time_elapsed)"
   ]
  },
  {
   "cell_type": "code",
   "execution_count": 16,
   "id": "29d799b6",
   "metadata": {},
   "outputs": [
    {
     "name": "stdout",
     "output_type": "stream",
     "text": [
      "15\n",
      "{'add': 0, 'append': 1, 'check_if_same_type': 1, 'dim_set': 0, 'flip': 1, 'implement': 0, 'list_create': 0, 'merge': 0, 'pair': 4, 'remove': 0, 'remove_item': 0, 'sample': 2, 'setminus': 4, 'write_all': 0, 'write_all_set': 0, 'write_random': 2}\n",
      "Result: [Element(object=B2, attribute 1=B, attribute 2=2), Element(object=A1, attribute 1=A, attribute 2=1), Element(object=A2, attribute 1=A, attribute 2=2), Element(object=B1, attribute 1=B, attribute 2=1)]\n",
      "Elapsed time: 6.579997716471553e-05\n"
     ]
    }
   ],
   "source": [
    "train_1 = {a,b,c,d}\n",
    "kc = KComplexity()\n",
    "result, time_elapsed = cf.palindrome(train_1)\n",
    "print(kc.get_k_complexity())\n",
    "print(kc.get_prim_counts())\n",
    "print(\"Result:\", result)\n",
    "print(\"Elapsed time:\", time_elapsed)"
   ]
  },
  {
   "cell_type": "code",
   "execution_count": 17,
   "id": "56cb5c75",
   "metadata": {},
   "outputs": [
    {
     "name": "stdout",
     "output_type": "stream",
     "text": [
      "30\n",
      "{'add': 0, 'append': 0, 'check_if_same_type': 10, 'dim_set': 0, 'flip': 1, 'implement': 0, 'list_create': 0, 'merge': 0, 'pair': 4, 'remove': 0, 'remove_item': 0, 'sample': 11, 'setminus': 4, 'write_all': 0, 'write_all_set': 0, 'write_random': 0}\n",
      "Result: [Element(object=A2, attribute 1=A, attribute 2=2), Element(object=B1, attribute 1=B, attribute 2=1), Element(object=A1, attribute 1=A, attribute 2=1), Element(object=B2, attribute 1=B, attribute 2=2)]\n",
      "Elapsed time: 1.1900003300979733e-05\n"
     ]
    }
   ],
   "source": [
    "train_1 = {a,b,c,d}\n",
    "kc = KComplexity()\n",
    "result, time_elapsed = cf.alternate(train_1)\n",
    "print(kc.get_k_complexity())\n",
    "print(kc.get_prim_counts())\n",
    "print(\"Result:\", result)\n",
    "print(\"Elapsed time:\", time_elapsed)"
   ]
  },
  {
   "cell_type": "code",
   "execution_count": 18,
   "id": "18a226e1",
   "metadata": {},
   "outputs": [
    {
     "name": "stdout",
     "output_type": "stream",
     "text": [
      "17\n",
      "{'add': 0, 'append': 0, 'check_if_same_type': 0, 'dim_set': 0, 'flip': 0, 'implement': 0, 'list_create': 0, 'merge': 0, 'pair': 6, 'remove': 0, 'remove_item': 0, 'sample': 7, 'setminus': 4, 'write_all': 0, 'write_all_set': 0, 'write_random': 0}\n",
      "Result: [[Element(object=B1, attribute 1=B, attribute 2=1), Element(object=B2, attribute 1=B, attribute 2=2)], [Element(object=A1, attribute 1=A, attribute 2=1), Element(object=A2, attribute 1=A, attribute 2=2)]]\n",
      "Elapsed time: 6.429999484680593e-05\n"
     ]
    }
   ],
   "source": [
    "train_1 = {a,b,c,d}\n",
    "assoc = {a: b, c: d}\n",
    "kc = KComplexity()\n",
    "result, time_elapsed = cf.chaining(train_1, assoc)\n",
    "print(kc.get_k_complexity())\n",
    "print(kc.get_prim_counts())\n",
    "print(\"Result:\", result)\n",
    "print(\"Elapsed time:\", time_elapsed)"
   ]
  },
  {
   "cell_type": "code",
   "execution_count": 19,
   "id": "f335aebe",
   "metadata": {},
   "outputs": [
    {
     "name": "stdout",
     "output_type": "stream",
     "text": [
      "0\n",
      "{'add': 0, 'append': 0, 'check_if_same_type': 0, 'dim_set': 0, 'flip': 0, 'implement': 0, 'list_create': 0, 'merge': 0, 'pair': 0, 'remove': 0, 'remove_item': 0, 'sample': 0, 'setminus': 0, 'write_all': 0, 'write_all_set': 0, 'write_random': 0}\n",
      "Result: [[Element(object=B1, attribute 1=B, attribute 2=1), Element(object=B2, attribute 1=B, attribute 2=2)], [Element(object=A1, attribute 1=A, attribute 2=1), Element(object=A2, attribute 1=A, attribute 2=2)]]\n",
      "Elapsed time: 6.429999484680593e-05\n"
     ]
    }
   ],
   "source": [
    "train_1 = {a,b,c,d}\n",
    "kc = KComplexity()\n",
    "cf.seriate(train_1)\n",
    "print(kc.get_k_complexity())\n",
    "print(kc.get_prim_counts())\n",
    "print(\"Result:\", result)\n",
    "print(\"Elapsed time:\", time_elapsed)"
   ]
  },
  {
   "cell_type": "code",
   "execution_count": 20,
   "id": "571dd1f4",
   "metadata": {},
   "outputs": [
    {
     "name": "stdout",
     "output_type": "stream",
     "text": [
      "20\n",
      "{'add': 0, 'append': 0, 'check_if_same_type': 4, 'dim_set': 0, 'flip': 1, 'implement': 0, 'list_create': 0, 'merge': 0, 'pair': 4, 'remove': 0, 'remove_item': 0, 'sample': 5, 'setminus': 4, 'write_all': 0, 'write_all_set': 0, 'write_random': 2}\n",
      "Result: [Element(object=A1, attribute 1=A, attribute 2=1), Element(object=B1, attribute 1=B, attribute 2=1), Element(object=A2, attribute 1=A, attribute 2=2), Element(object=B2, attribute 1=B, attribute 2=2)]\n",
      "Elapsed time: 1.7200014553964138e-05\n"
     ]
    }
   ],
   "source": [
    "train_1 = {a,b,c,d}\n",
    "kc = KComplexity()\n",
    "result, time_elapsed = cf.serial_crossed(train_1)\n",
    "print(kc.get_k_complexity())\n",
    "print(kc.get_prim_counts())\n",
    "print(\"Result:\", result)\n",
    "print(\"Elapsed time:\", time_elapsed)"
   ]
  },
  {
   "cell_type": "code",
   "execution_count": 21,
   "id": "deae7813",
   "metadata": {},
   "outputs": [
    {
     "name": "stdout",
     "output_type": "stream",
     "text": [
      "24\n",
      "{'add': 0, 'append': 0, 'check_if_same_type': 6, 'dim_set': 0, 'flip': 1, 'implement': 0, 'list_create': 0, 'merge': 0, 'pair': 4, 'remove': 0, 'remove_item': 0, 'sample': 7, 'setminus': 4, 'write_all': 0, 'write_all_set': 0, 'write_random': 2}\n",
      "Result: [Element(object=B1, attribute 1=B, attribute 2=1), Element(object=A1, attribute 1=A, attribute 2=1), Element(object=A2, attribute 1=A, attribute 2=2), Element(object=B2, attribute 1=B, attribute 2=2)]\n",
      "Elapsed time: 1.4699995517730713e-05\n"
     ]
    }
   ],
   "source": [
    "train_1 = {a,b,c,d}\n",
    "kc = KComplexity()\n",
    "result, time_elapsed = cf.center_embedded(train_1)\n",
    "print(kc.get_k_complexity())\n",
    "print(kc.get_prim_counts())\n",
    "print(\"Result:\", result)\n",
    "print(\"Elapsed time:\", time_elapsed)"
   ]
  },
  {
   "cell_type": "code",
   "execution_count": 22,
   "id": "ad5a4286",
   "metadata": {},
   "outputs": [
    {
     "name": "stdout",
     "output_type": "stream",
     "text": [
      "13\n",
      "{'add': 0, 'append': 2, 'check_if_same_type': 0, 'dim_set': 0, 'flip': 1, 'implement': 0, 'list_create': 0, 'merge': 2, 'pair': 0, 'remove': 0, 'remove_item': 0, 'sample': 2, 'setminus': 4, 'write_all': 0, 'write_all_set': 0, 'write_random': 2}\n",
      "Result: [Element(object=A2, attribute 1=A, attribute 2=2), Element(object=B2, attribute 1=B, attribute 2=2), Element(object=B1, attribute 1=B, attribute 2=1), Element(object=A1, attribute 1=A, attribute 2=1)]\n",
      "Elapsed time: 8.3099992480129e-05\n"
     ]
    }
   ],
   "source": [
    "train_1 = {a,b,c,d}\n",
    "kc = KComplexity()\n",
    "result, time_elapsed = cf.tail_recursive(train_1)\n",
    "print(kc.get_k_complexity())\n",
    "print(kc.get_prim_counts())\n",
    "print(\"Result:\", result)\n",
    "print(\"Elapsed time:\", time_elapsed)"
   ]
  },
  {
   "cell_type": "code",
   "execution_count": 23,
   "id": "ffe74253",
   "metadata": {},
   "outputs": [
    {
     "name": "stdout",
     "output_type": "stream",
     "text": [
      "[[4.29997453e-06 4.39997530e-06 1.89998536e-06 2.29998841e-06\n",
      "  2.00001523e-06 2.40001827e-06]\n",
      " [4.20003198e-06 3.90000059e-06 1.79998460e-06 1.99998613e-06\n",
      "  2.00001523e-06 2.30001751e-06]\n",
      " [3.90002970e-06 4.20000288e-06 1.99998613e-06 2.19998765e-06\n",
      "  1.89998536e-06 2.19998765e-06]\n",
      " [4.29997453e-06 4.39997530e-06 1.90001447e-06 2.10001599e-06\n",
      "  1.99998613e-06 2.09998689e-06]\n",
      " [4.00000135e-06 3.90002970e-06 1.89998536e-06 1.79998460e-06\n",
      "  1.90001447e-06 2.30001751e-06]\n",
      " [4.00000135e-06 3.79999983e-06 1.90001447e-06 2.00001523e-06\n",
      "  2.09998689e-06 2.29998841e-06]\n",
      " [4.69997758e-06 3.90002970e-06 1.79998460e-06 1.99998613e-06\n",
      "  2.09998689e-06 2.10001599e-06]\n",
      " [3.90000059e-06 3.69999907e-06 1.80001371e-06 1.90001447e-06\n",
      "  2.00001523e-06 2.20001675e-06]\n",
      " [4.30003274e-06 4.30000364e-06 1.79998460e-06 2.09998689e-06\n",
      "  2.09998689e-06 2.40001827e-06]\n",
      " [4.30000364e-06 3.90000059e-06 1.80001371e-06 2.10001599e-06\n",
      "  2.10001599e-06 2.20001675e-06]\n",
      " [4.00003046e-06 3.69999907e-06 1.90001447e-06 2.00001523e-06\n",
      "  1.62000069e-05 5.00003807e-06]\n",
      " [1.22000056e-05 7.00002420e-06 2.19998765e-06 3.39999679e-06\n",
      "  2.29998841e-06 2.20001675e-06]\n",
      " [4.40003350e-06 4.40000440e-06 1.89998536e-06 2.20001675e-06\n",
      "  2.20001675e-06 2.30001751e-06]\n",
      " [4.50003427e-06 4.60000592e-06 2.09998689e-06 2.39998917e-06\n",
      "  2.30001751e-06 2.20001675e-06]\n",
      " [4.40003350e-06 4.20000288e-06 1.99998613e-06 2.19998765e-06\n",
      "  2.09998689e-06 2.39998917e-06]\n",
      " [4.39997530e-06 4.10000212e-06 2.00001523e-06 2.50001904e-06\n",
      "  2.09998689e-06 2.29998841e-06]\n",
      " [4.39997530e-06 4.10000212e-06 2.00001523e-06 2.10001599e-06\n",
      "  2.40001827e-06 2.19998765e-06]\n",
      " [4.30000364e-06 3.79999983e-06 1.99998613e-06 2.19998765e-06\n",
      "  2.10001599e-06 2.40001827e-06]\n",
      " [4.60003503e-06 4.10000212e-06 1.99998613e-06 2.09998689e-06\n",
      "  2.19998765e-06 2.39998917e-06]\n",
      " [4.19997377e-06 4.00000135e-06 2.20001675e-06 2.30001751e-06\n",
      "  2.10001599e-06 2.39998917e-06]]\n"
     ]
    }
   ],
   "source": [
    "import numpy as np\n",
    "\n",
    "def runReordering(element_set, n_runs):\n",
    "    times = []\n",
    "    for _ in range(n_runs + 1):\n",
    "        time_list = []\n",
    "        # 1-D\n",
    "        time_list.append(cf.iterate(element_set)[1])\n",
    "        time_list.append(cf.palindrome(element_set)[1])\n",
    "        time_list.append(cf.alternate(element_set)[1])\n",
    "        # time_list.append(cf.seriate(element_set)[1])\n",
    "        # 2-D\n",
    "        time_list.append(cf.serial_crossed(element_set)[1])\n",
    "        time_list.append(cf.center_embedded(element_set)[1])\n",
    "        time_list.append(cf.tail_recursive(element_set)[1]) \n",
    "\n",
    "        times.append(time_list)\n",
    "        \n",
    "    times = np.array(times)[1:]\n",
    "        \n",
    "    return (times)\n",
    "\n",
    "times = runReordering(train_1, 20)\n",
    "print(times)"
   ]
  },
  {
   "cell_type": "code",
   "execution_count": 24,
   "id": "33262df1",
   "metadata": {},
   "outputs": [
    {
     "data": {
      "image/png": "[encoded data removed]",
      "text/plain": [
       "<Figure size 640x480 with 1 Axes>"
      ]
     },
     "metadata": {},
     "output_type": "display_data"
    },
    {
     "name": "stdout",
     "output_type": "stream",
     "text": [
      "Iterate            0.000005\n",
      "Palindrome         0.000004\n",
      "Alternate          0.000002\n",
      "Serial Crossed     0.000002\n",
      "Center Embedded    0.000003\n",
      "Tail Recursive     0.000002\n",
      "dtype: float64\n"
     ]
    }
   ],
   "source": [
    "import pandas as pd\n",
    "import seaborn as sns\n",
    "import matplotlib.pyplot as plt\n",
    "\n",
    "df = pd.DataFrame(times, columns=['Iterate', 'Palindrome', 'Alternate', 'Serial Crossed', 'Center Embedded', 'Tail Recursive'])\n",
    "sns.boxplot(data=df)\n",
    "plt.title('Reordering Times for Cognitive Functions')\n",
    "plt.xlabel('Cognitive Functions')\n",
    "plt.ylabel('Time (s)')\n",
    "plt.xticks(rotation=45)\n",
    "plt.grid(True)\n",
    "plt.show() \n",
    "print(df.mean())"
   ]
  }
 ],
 "metadata": {
  "kernelspec": {
   "display_name": "lot_venv",
   "language": "python",
   "name": "python3"
  },
  "language_info": {
   "codemirror_mode": {
    "name": "ipython",
    "version": 3
   },
   "file_extension": ".py",
   "mimetype": "text/x-python",
   "name": "python",
   "nbconvert_exporter": "python",
   "pygments_lexer": "ipython3",
   "version": "3.13.5"
  }
 },
 "nbformat": 4,
 "nbformat_minor": 5
}
