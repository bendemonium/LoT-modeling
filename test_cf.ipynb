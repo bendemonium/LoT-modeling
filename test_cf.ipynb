{
 "cells": [
  {
   "cell_type": "code",
   "execution_count": 1,
   "id": "a194d1ce",
   "metadata": {},
   "outputs": [],
   "source": [
    "import primitive_fucntions as pf\n",
    "from collections import defaultdict\n",
    "from utils import Stopwatch, Element, ElementSet, Associations"
   ]
  },
  {
   "cell_type": "code",
   "execution_count": 2,
   "id": "126701bc",
   "metadata": {},
   "outputs": [],
   "source": [
    "def iterate(S: ElementSet):     # 112233    \n",
    "\n",
    "    # preprocessing (not part of measured cognitive process)\n",
    "    n = len(S.elements) # number of elements in the set\n",
    "    chunks = defaultdict(list) \n",
    "    stopwatch = Stopwatch()\n",
    "    # --- #\n",
    "    # select attribute which chunking is based on\n",
    "\n",
    "    ### ADD CODE HERE\n",
    "    \"\"\" graph algo here\"\"\"\n",
    "    bias = find_bias(S.elements, stopwatch)\n",
    "    for _ in range(n//2):\n",
    "        element = pf.sample(S)\n",
    "    result = None\n",
    "    time_elapsed = None\n",
    "\n",
    "\n",
    "    # \"\"\" non graph algo here\"\"\"\n",
    "    bias = find_bias(S, stopwatch)\n",
    "    stopwatch.start()\n",
    "    for _ in range(n): # 3 times  1\n",
    "        element = pf.sample(S) # select an element in the set 1\n",
    "        sorter = getattr(element, bias) \n",
    "        chunks[sorter].append(element) \n",
    "        pf.setminus(S, element) # 2\n",
    "    stopwatch.stop()\n",
    "    n = len(chunks) # reassign n\n",
    "    chunks = {tuple(v) for k, v in chunks.items()}\n",
    "    stopwatch.start()\n",
    "    result = []\n",
    "    for _ in range(n):\n",
    "        chunk = pf.sample(chunks)\n",
    "        stopwatch.stop()\n",
    "        temp = list(chunk)\n",
    "        stopwatch.start()\n",
    "        pf.append(result, temp)\n",
    "        pf.setminus(chunks, chunk)\n",
    "    stopwatch.stop()\n",
    "    time_elapsed = stopwatch.get_elapsed_time()\n",
    "\n",
    "    return (result, time_elapsed)"
   ]
  },
  {
   "cell_type": "code",
   "execution_count": 3,
   "id": "f18ad11b",
   "metadata": {},
   "outputs": [],
   "source": [
    "# define elements\n",
    "\n",
    "# call function with elements"
   ]
  },
  {
   "cell_type": "code",
   "execution_count": 4,
   "id": "74a2b0aa",
   "metadata": {},
   "outputs": [],
   "source": [
    "from utils import ElementSet"
   ]
  },
  {
   "cell_type": "code",
   "execution_count": 5,
   "id": "e13b0cd6",
   "metadata": {},
   "outputs": [],
   "source": [
    "obj1 = Element(\"1\", \"yellow\", \"square\")\n",
    "obj2 = Element(\"2\", \"blue\", \"square\") \n",
    "obj3 = Element(\"3\", \"yellow\", \"circle\")\n",
    "obj4 = Element(\"4\", \"blue\", \"circle\")"
   ]
  },
  {
   "cell_type": "code",
   "execution_count": 6,
   "id": "298ac811",
   "metadata": {},
   "outputs": [],
   "source": [
    "elemset = ElementSet({obj1, obj2, obj3, obj4})"
   ]
  }
 ],
 "metadata": {
  "kernelspec": {
   "display_name": ".venv",
   "language": "python",
   "name": "python3"
  },
  "language_info": {
   "codemirror_mode": {
    "name": "ipython",
    "version": 3
   },
   "file_extension": ".py",
   "mimetype": "text/x-python",
   "name": "python",
   "nbconvert_exporter": "python",
   "pygments_lexer": "ipython3",
   "version": "3.13.2"
  }
 },
 "nbformat": 4,
 "nbformat_minor": 5
}
