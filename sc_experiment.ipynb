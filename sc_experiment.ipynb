{
 "cells": [
  {
   "cell_type": "code",
   "execution_count": 1,
   "id": "e786240c",
   "metadata": {},
   "outputs": [],
   "source": [
    "import cognitive_functions as cf\n",
    "from utils import Stopwatch, Element, Associations, ElementSet, pretty_view\n",
    "from utils import SpaceComplexity as sc\n"
   ]
  },
  {
   "cell_type": "code",
   "execution_count": 2,
   "id": "ceb06be9",
   "metadata": {},
   "outputs": [],
   "source": [
    "obj1 = Element(\"ridhi\",\"yellow\", \"square\")\n",
    "obj2 = Element(\"2\",\"blue\", \"square\")\n",
    "obj3 = Element(\"3\",\"yellow\", \"circle\")\n",
    "obj4 = Element(\"4\",\"blue\", \"circle\")\n"
   ]
  },
  {
   "cell_type": "code",
   "execution_count": 5,
   "id": "2868266c",
   "metadata": {},
   "outputs": [],
   "source": [
    "S = {obj1, obj2, obj3, obj4}\n",
    "S = ElementSet(S)"
   ]
  },
  {
   "cell_type": "code",
   "execution_count": 6,
   "id": "094c0d9b",
   "metadata": {},
   "outputs": [
    {
     "ename": "TypeError",
     "evalue": "Population must be a sequence.  For dicts or sets, use sorted(d).",
     "output_type": "error",
     "traceback": [
      "\u001b[31m---------------------------------------------------------------------------\u001b[39m",
      "\u001b[31mTypeError\u001b[39m                                 Traceback (most recent call last)",
      "\u001b[36mCell\u001b[39m\u001b[36m \u001b[39m\u001b[32mIn[6]\u001b[39m\u001b[32m, line 1\u001b[39m\n\u001b[32m----> \u001b[39m\u001b[32m1\u001b[39m \u001b[43mcf\u001b[49m\u001b[43m.\u001b[49m\u001b[43miterate\u001b[49m\u001b[43m(\u001b[49m\u001b[43mS\u001b[49m\u001b[43m)\u001b[49m\n",
      "\u001b[36mFile \u001b[39m\u001b[32mc:\\localpython\\lot_25\\LoT-modeling\\cognitive_functions.py:20\u001b[39m, in \u001b[36miterate\u001b[39m\u001b[34m(S)\u001b[39m\n\u001b[32m     18\u001b[39m \u001b[38;5;28;01mfor\u001b[39;00m _ \u001b[38;5;129;01min\u001b[39;00m \u001b[38;5;28mrange\u001b[39m(n//\u001b[32m2\u001b[39m):\n\u001b[32m     19\u001b[39m     sp.startcounttemp()  \u001b[38;5;66;03m# element: 2 units (1-D)\u001b[39;00m\n\u001b[32m---> \u001b[39m\u001b[32m20\u001b[39m     element = \u001b[43mpf\u001b[49m\u001b[43m.\u001b[49m\u001b[43msample\u001b[49m\u001b[43m(\u001b[49m\u001b[43mS\u001b[49m\u001b[43m)\u001b[49m\n\u001b[32m     21\u001b[39m     sp.subtemp()\n\u001b[32m     22\u001b[39m result = \u001b[38;5;28;01mNone\u001b[39;00m\n",
      "\u001b[36mFile \u001b[39m\u001b[32mc:\\localpython\\lot_25\\LoT-modeling\\primitive_fucntions.py:48\u001b[39m, in \u001b[36msample\u001b[39m\u001b[34m(collection)\u001b[39m\n\u001b[32m     45\u001b[39m \u001b[38;5;28;01mif\u001b[39;00m \u001b[38;5;28misinstance\u001b[39m(collection, \u001b[38;5;28mset\u001b[39m):\n\u001b[32m     46\u001b[39m     collection = \u001b[38;5;28mtuple\u001b[39m(collection)  \u001b[38;5;66;03m# Convert to tuple for sampling\u001b[39;00m\n\u001b[32m---> \u001b[39m\u001b[32m48\u001b[39m \u001b[38;5;28;01mreturn\u001b[39;00m \u001b[43mrandom\u001b[49m\u001b[43m.\u001b[49m\u001b[43msample\u001b[49m\u001b[43m(\u001b[49m\u001b[43mcollection\u001b[49m\u001b[43m,\u001b[49m\u001b[43m \u001b[49m\u001b[32;43m1\u001b[39;49m\u001b[43m)\u001b[49m[\u001b[32m0\u001b[39m]\n",
      "\u001b[36mFile \u001b[39m\u001b[32mc:\\Users\\Mikea\\AppData\\Local\\Programs\\Python\\Python312\\Lib\\random.py:413\u001b[39m, in \u001b[36mRandom.sample\u001b[39m\u001b[34m(self, population, k, counts)\u001b[39m\n\u001b[32m    389\u001b[39m \u001b[38;5;66;03m# Sampling without replacement entails tracking either potential\u001b[39;00m\n\u001b[32m    390\u001b[39m \u001b[38;5;66;03m# selections (the pool) in a list or previous selections in a set.\u001b[39;00m\n\u001b[32m    391\u001b[39m \n\u001b[32m   (...)\u001b[39m\u001b[32m    409\u001b[39m \u001b[38;5;66;03m# too many calls to _randbelow(), making them slower and\u001b[39;00m\n\u001b[32m    410\u001b[39m \u001b[38;5;66;03m# causing them to eat more entropy than necessary.\u001b[39;00m\n\u001b[32m    412\u001b[39m \u001b[38;5;28;01mif\u001b[39;00m \u001b[38;5;129;01mnot\u001b[39;00m \u001b[38;5;28misinstance\u001b[39m(population, _Sequence):\n\u001b[32m--> \u001b[39m\u001b[32m413\u001b[39m     \u001b[38;5;28;01mraise\u001b[39;00m \u001b[38;5;167;01mTypeError\u001b[39;00m(\u001b[33m\"\u001b[39m\u001b[33mPopulation must be a sequence.  \u001b[39m\u001b[33m\"\u001b[39m\n\u001b[32m    414\u001b[39m                     \u001b[33m\"\u001b[39m\u001b[33mFor dicts or sets, use sorted(d).\u001b[39m\u001b[33m\"\u001b[39m)\n\u001b[32m    415\u001b[39m n = \u001b[38;5;28mlen\u001b[39m(population)\n\u001b[32m    416\u001b[39m \u001b[38;5;28;01mif\u001b[39;00m counts \u001b[38;5;129;01mis\u001b[39;00m \u001b[38;5;129;01mnot\u001b[39;00m \u001b[38;5;28;01mNone\u001b[39;00m:\n",
      "\u001b[31mTypeError\u001b[39m: Population must be a sequence.  For dicts or sets, use sorted(d)."
     ]
    }
   ],
   "source": [
    "cf.iterate(S)"
   ]
  }
 ],
 "metadata": {
  "kernelspec": {
   "display_name": "Python 3",
   "language": "python",
   "name": "python3"
  },
  "language_info": {
   "codemirror_mode": {
    "name": "ipython",
    "version": 3
   },
   "file_extension": ".py",
   "mimetype": "text/x-python",
   "name": "python",
   "nbconvert_exporter": "python",
   "pygments_lexer": "ipython3",
   "version": "3.12.4"
  }
 },
 "nbformat": 4,
 "nbformat_minor": 5
}
