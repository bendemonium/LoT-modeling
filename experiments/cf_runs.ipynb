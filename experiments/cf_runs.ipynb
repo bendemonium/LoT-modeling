{
 "cells": [
  {
   "cell_type": "code",
   "execution_count": 1,
   "id": "6dba1f94",
   "metadata": {},
   "outputs": [],
   "source": [
    "import sys, os\n",
    "sys.path.append(os.path.dirname(os.getcwd()))\n",
    "import model.cognitive_functions as cf\n",
    "import model.memory as mem\n",
    "from experiments.lab_rats import A, B, C, D, E, F, G, H, I, J, K, L, M, N, O, P, Q\n"
   ]
  },
  {
   "cell_type": "code",
   "execution_count": 2,
   "id": "53f389c2",
   "metadata": {},
   "outputs": [],
   "source": [
    "lex1 = mem.Lexicon(tokens={A,B,D,E})\n",
    "lex2 = mem.Lexicon(tokens={A,B,C,D,E,F})   \n",
    "lex3 = mem.Lexicon(tokens={A,B,D,E,G,H})"
   ]
  },
  {
   "cell_type": "code",
   "execution_count": 3,
   "id": "bdd24550",
   "metadata": {},
   "outputs": [
    {
     "data": {
      "text/plain": [
       "(18.0, 8.0)"
      ]
     },
     "execution_count": 3,
     "metadata": {},
     "output_type": "execute_result"
    }
   ],
   "source": [
    "# iterate\n",
    "\n",
    "result, comp = cf.iterate(lex1)\n",
    "comp.cf_mdl, comp.cf_space"
   ]
  },
  {
   "cell_type": "code",
   "execution_count": 4,
   "id": "96ac23ab",
   "metadata": {},
   "outputs": [
    {
     "data": {
      "text/plain": [
       "(28.0, 12.0)"
      ]
     },
     "execution_count": 4,
     "metadata": {},
     "output_type": "execute_result"
    }
   ],
   "source": [
    "result, comp = cf.iterate(lex2)\n",
    "comp.cf_mdl, comp.cf_space"
   ]
  },
  {
   "cell_type": "code",
   "execution_count": 5,
   "id": "7cd7091e",
   "metadata": {},
   "outputs": [
    {
     "data": {
      "text/plain": [
       "(27.0, 12.0)"
      ]
     },
     "execution_count": 5,
     "metadata": {},
     "output_type": "execute_result"
    }
   ],
   "source": [
    "result, comp = cf.iterate(lex3)\n",
    "comp.cf_mdl, comp.cf_space"
   ]
  },
  {
   "cell_type": "code",
   "execution_count": 6,
   "id": "e4a7224d",
   "metadata": {},
   "outputs": [
    {
     "data": {
      "text/plain": [
       "(27.0, 12.0)"
      ]
     },
     "execution_count": 6,
     "metadata": {},
     "output_type": "execute_result"
    }
   ],
   "source": [
    "comp.cf_mdl, comp.cf_space"
   ]
  },
  {
   "cell_type": "code",
   "execution_count": 7,
   "id": "57eeb0c9",
   "metadata": {},
   "outputs": [],
   "source": [
    "lex1 = mem.Lexicon(tokens={A,B,D,E})\n",
    "lex2 = mem.Lexicon(tokens={A,B,C,D,E,F})   \n",
    "lex3 = mem.Lexicon(tokens={A,B,D,E,G,H})"
   ]
  },
  {
   "cell_type": "code",
   "execution_count": 8,
   "id": "c9389036",
   "metadata": {},
   "outputs": [],
   "source": [
    "from model.complexity import cognitive_function\n",
    "import model.primitive_fucntions as pf"
   ]
  },
  {
   "cell_type": "code",
   "execution_count": 9,
   "id": "ce4f8284",
   "metadata": {},
   "outputs": [],
   "source": [
    "@cognitive_function()\n",
    "def palindrome(lexicon):\n",
    "\tbasis = mem.Queue()\n",
    "\tsequence = mem.Sequence()\n",
    "\tbuffer = mem.Lexicon()\n",
    "\tbias = mem.Mode('attribute1', track = False)\n",
    "\twhile (lexicon):\n",
    "\t\tpf.loop()\n",
    "\t\tcurrent = pf.sample(lexicon)\n",
    "\t\tpf.add(basis, current)\n",
    "\t\tpf.remove(lexicon, current)\n",
    "\t\tpf.write_all(lexicon, current, bias, buffer)\n",
    "\t\tsequence.click(current)\n",
    "\t\tprint(basis.items)\n",
    "\t\tcurrent.purge()\n",
    "\twhile(buffer):\n",
    "\t\tpf.loop()\n",
    "\t\tremainder = mem.Queue()\n",
    "\t\tbase = pf.push_out(basis)\n",
    "\t\twhile(basis):\n",
    "\t\t\tpf.loop()\n",
    "\t\t\tpf.add(remainder, base)\n",
    "\t\t\tbase = pf.push_out(basis)\n",
    "\t\tpf.write_random(buffer, token = base, bias = bias, memory = sequence)\n",
    "\t\tbasis.clone(remainder)\n",
    "\t\tprint(basis.items)\n",
    "\t\tremainder.purge()\n",
    "\t\tbase.purge()\n",
    "\t\tprint(sequence.items)\n",
    "\treturn(sequence)"
   ]
  },
  {
   "cell_type": "code",
   "execution_count": 10,
   "id": "a0e24b91",
   "metadata": {},
   "outputs": [
    {
     "name": "stdout",
     "output_type": "stream",
     "text": [
      "deque([Token('E', linked=False, ord=None)])\n",
      "deque([Token('A', linked=False, ord=None), Token('E', linked=False, ord=None)])\n",
      "deque([Token('E', linked=False, ord=None)])\n",
      "[Token('E', linked=False, ord=None), Token('A', linked=False, ord=None), Token('B', linked=False, ord=None)]\n",
      "deque([])\n",
      "[Token('E', linked=False, ord=None), Token('A', linked=False, ord=None), Token('B', linked=False, ord=None), Token('D', linked=False, ord=None)]\n"
     ]
    },
    {
     "data": {
      "text/plain": [
       "(38.0, 8.0)"
      ]
     },
     "execution_count": 10,
     "metadata": {},
     "output_type": "execute_result"
    }
   ],
   "source": [
    "lex1 = mem.Lexicon(tokens={A,B,D,E})\n",
    "result, comp = palindrome(lex1)\n",
    "comp.cf_mdl, comp.cf_space"
   ]
  },
  {
   "cell_type": "code",
   "execution_count": 11,
   "id": "0d447936",
   "metadata": {},
   "outputs": [
    {
     "data": {
      "text/plain": [
       "[RunSnapshot(mdl=38.0, k_complexity_breakdown={'loop': 5, 'sample': 6, 'add': 11, 'remove': 8, 'inquire_token': 4, 'find': 4, 'write_random': 4, 'write_all': 2, 'push_out': 3}, space_complexity=8.0)]"
      ]
     },
     "execution_count": 11,
     "metadata": {},
     "output_type": "execute_result"
    }
   ],
   "source": [
    "comp.snapshots"
   ]
  },
  {
   "cell_type": "code",
   "execution_count": 12,
   "id": "bfa079ee",
   "metadata": {},
   "outputs": [
    {
     "name": "stdout",
     "output_type": "stream",
     "text": [
      "deque([Token('G', linked=False, ord=None)])\n",
      "deque([Token('D', linked=False, ord=None), Token('G', linked=False, ord=None)])\n",
      "deque([Token('A', linked=False, ord=None), Token('D', linked=False, ord=None), Token('G', linked=False, ord=None)])\n",
      "deque([Token('D', linked=False, ord=None), Token('G', linked=False, ord=None)])\n",
      "[Token('G', linked=False, ord=None), Token('D', linked=False, ord=None), Token('A', linked=False, ord=None), Token('B', linked=False, ord=None)]\n",
      "deque([Token('G', linked=False, ord=None)])\n",
      "[Token('G', linked=False, ord=None), Token('D', linked=False, ord=None), Token('A', linked=False, ord=None), Token('B', linked=False, ord=None), Token('E', linked=False, ord=None)]\n",
      "deque([])\n",
      "[Token('G', linked=False, ord=None), Token('D', linked=False, ord=None), Token('A', linked=False, ord=None), Token('B', linked=False, ord=None), Token('E', linked=False, ord=None), Token('H', linked=False, ord=None)]\n"
     ]
    },
    {
     "data": {
      "text/plain": [
       "(63.0, 12.0)"
      ]
     },
     "execution_count": 12,
     "metadata": {},
     "output_type": "execute_result"
    }
   ],
   "source": [
    "lex3 = mem.Lexicon(tokens={A,B,D,E,G,H})\n",
    "result, comp = palindrome(lex3)\n",
    "comp.cf_mdl, comp.cf_space"
   ]
  },
  {
   "cell_type": "code",
   "execution_count": 13,
   "id": "8ddae9d6",
   "metadata": {},
   "outputs": [
    {
     "data": {
      "text/plain": [
       "(19.0, 8.0)"
      ]
     },
     "execution_count": 13,
     "metadata": {},
     "output_type": "execute_result"
    }
   ],
   "source": [
    "lex1 = mem.Lexicon(tokens={A,B,D,E})\n",
    "result, comp = cf.alternate(lex1)\n",
    "comp.cf_mdl, comp.cf_space"
   ]
  },
  {
   "cell_type": "code",
   "execution_count": 14,
   "id": "9c00ffab",
   "metadata": {},
   "outputs": [
    {
     "data": {
      "text/plain": [
       "(34.0, 12.0)"
      ]
     },
     "execution_count": 14,
     "metadata": {},
     "output_type": "execute_result"
    }
   ],
   "source": [
    "lex2 = mem.Lexicon(tokens={A,B,C,D,E,F})\n",
    "result, comp = cf.alternate(lex2)\n",
    "comp.cf_mdl, comp.cf_space"
   ]
  },
  {
   "cell_type": "code",
   "execution_count": 15,
   "id": "4d8702a7",
   "metadata": {},
   "outputs": [
    {
     "data": {
      "text/plain": [
       "(36.0, 8.0)"
      ]
     },
     "execution_count": 15,
     "metadata": {},
     "output_type": "execute_result"
    }
   ],
   "source": [
    "lex1 = mem.Lexicon(tokens={A,B,D,E})\n",
    "result, comp = cf.seriate(lex1)\n",
    "comp.cf_mdl, comp.cf_space"
   ]
  },
  {
   "cell_type": "code",
   "execution_count": 16,
   "id": "972c7672",
   "metadata": {},
   "outputs": [
    {
     "data": {
      "text/plain": [
       "[RunSnapshot(mdl=36.0, k_complexity_breakdown={'loop': 4, 'sample': 6, 'add': 12, 'remove': 8, 'inquire_token': 4, 'find': 4, 'write_random': 4, 'write_all': 2, 'push_out': 2}, space_complexity=8.0)]"
      ]
     },
     "execution_count": 16,
     "metadata": {},
     "output_type": "execute_result"
    }
   ],
   "source": [
    "comp.snapshots"
   ]
  },
  {
   "cell_type": "code",
   "execution_count": 17,
   "id": "91d8587e",
   "metadata": {},
   "outputs": [
    {
     "data": {
      "text/plain": [
       "(54.0, 12.0)"
      ]
     },
     "execution_count": 17,
     "metadata": {},
     "output_type": "execute_result"
    }
   ],
   "source": [
    "lex3 = mem.Lexicon(tokens={A,B,D,E,G,H})\n",
    "result, comp = cf.seriate(lex3)\n",
    "comp.cf_mdl, comp.cf_space"
   ]
  },
  {
   "cell_type": "code",
   "execution_count": 18,
   "id": "42794a23",
   "metadata": {},
   "outputs": [],
   "source": [
    "@cognitive_function()\n",
    "def serial_crossed(lexicon):\n",
    "\tsequence = mem.Sequence()\n",
    "\tchunker = mem.Mode('attribute1')\n",
    "\tbias = mem.Mode('attribute2')\n",
    "\tbasis = mem.Queue()\n",
    "\tcurrent = pf.sample(lexicon)\n",
    "\tsequence.click(current)\n",
    "\tpf.add(basis, current)\n",
    "\tpf.remove(lexicon, current)\n",
    "\tbuffer = pf.find(lexicon, current, chunker)\n",
    "\tcurrent.purge()\n",
    "\twhile(buffer):\n",
    "\t\tpf.loop()\n",
    "\t\tcurrent = pf.sample(buffer)\n",
    "\t\tpf.add(basis, current)\n",
    "\t\tsequence.click(current)\n",
    "\t\tpf.remove(buffer, current)\n",
    "\t\tpf.remove(lexicon, current)\n",
    "\t\tcurrent.purge()\n",
    "\twhile(lexicon):\n",
    "\t\tpf.loop()\n",
    "\t\tbase = pf.push_out(basis)\n",
    "\t\tpf.write_random(lexicon, base, bias, sequence)\n",
    "\t\tbase.purge()\n",
    "\treturn(sequence)"
   ]
  },
  {
   "cell_type": "code",
   "execution_count": 19,
   "id": "34b36789",
   "metadata": {},
   "outputs": [
    {
     "data": {
      "text/plain": [
       "(23.0, 12.0)"
      ]
     },
     "execution_count": 19,
     "metadata": {},
     "output_type": "execute_result"
    }
   ],
   "source": [
    "lex4 = mem.Lexicon(tokens={I,J,L,M})\n",
    "result, comp = serial_crossed(lex4)\n",
    "comp.cf_mdl, comp.cf_space"
   ]
  },
  {
   "cell_type": "code",
   "execution_count": 20,
   "id": "8424bb7e",
   "metadata": {},
   "outputs": [
    {
     "data": {
      "text/plain": [
       "(36.0, 18.0)"
      ]
     },
     "execution_count": 20,
     "metadata": {},
     "output_type": "execute_result"
    }
   ],
   "source": [
    "lex5 = mem.Lexicon(tokens={I,J,K,L,M,N})\n",
    "result, comp = serial_crossed(lex5)\n",
    "comp.cf_mdl, comp.cf_space"
   ]
  },
  {
   "cell_type": "code",
   "execution_count": 21,
   "id": "bbf736c2",
   "metadata": {},
   "outputs": [],
   "source": [
    "@cognitive_function()\n",
    "def center_embedded(lexicon):\n",
    "\tsequence = mem.Sequence()\n",
    "\tchunker = mem.Mode('attribute1')\n",
    "\tbias = mem.Mode('attribute2')\n",
    "\tbasis = mem.Queue()\n",
    "\tcurrent = pf.sample(lexicon)\n",
    "\tsequence.click(current)\n",
    "\tpf.add(basis, current)\n",
    "\tpf.remove(lexicon, current)\n",
    "\tbuffer = pf.find(lexicon, current, chunker)\n",
    "\tprint(buffer.tokens)\n",
    "\tcurrent.purge()\n",
    "\twhile(buffer):\n",
    "\t\tpf.loop()\n",
    "\t\tcurrent = pf.sample(buffer)\n",
    "\t\tpf.add(basis, current)\n",
    "\t\tprint(basis.items)\n",
    "\t\tsequence.click(current)\n",
    "\t\tpf.remove(buffer, current)\n",
    "\t\tpf.remove(lexicon, current)\n",
    "\t\tcurrent.purge()\n",
    "\twhile(lexicon):\n",
    "\t\tpf.loop()\n",
    "\t\tremainder = mem.Queue()\n",
    "\t\tbase = pf.push_out(basis)\n",
    "\t\tprint(basis.items)\n",
    "\t\twhile(basis):\n",
    "\t\t\tpf.loop()\n",
    "\t\t\tpf.add(remainder, base)\n",
    "\t\t\tbase = pf.push_out(basis)\n",
    "\t\tpf.write_random(lexicon, token = base, bias = bias, memory = sequence)\n",
    "\t\tbasis.clone(remainder)\n",
    "\t\tremainder.purge()\n",
    "\t\tbase.purge()\n",
    "\treturn(sequence)"
   ]
  },
  {
   "cell_type": "code",
   "execution_count": 22,
   "id": "1ce75585",
   "metadata": {},
   "outputs": [
    {
     "name": "stdout",
     "output_type": "stream",
     "text": [
      "{Token('L', linked=False, ord=None)}\n",
      "deque([Token('L', linked=False, ord=None), Token('M', linked=False, ord=None)])\n",
      "deque([Token('L', linked=False, ord=None)])\n",
      "deque([])\n"
     ]
    },
    {
     "data": {
      "text/plain": [
       "(27.0, 12.0)"
      ]
     },
     "execution_count": 22,
     "metadata": {},
     "output_type": "execute_result"
    }
   ],
   "source": [
    "lex4 = mem.Lexicon(tokens={I,J,L,M})\n",
    "result, comp = center_embedded(lex4)\n",
    "comp.cf_mdl, comp.cf_space"
   ]
  },
  {
   "cell_type": "code",
   "execution_count": 23,
   "id": "10f309c7",
   "metadata": {},
   "outputs": [
    {
     "data": {
      "text/plain": [
       "[RunSnapshot(mdl=27.0, k_complexity_breakdown={'sample': 4, 'add': 8, 'remove': 5, 'inquire_token': 3, 'find': 3, 'loop': 4, 'push_out': 3, 'write_random': 2}, space_complexity=12.0)]"
      ]
     },
     "execution_count": 23,
     "metadata": {},
     "output_type": "execute_result"
    }
   ],
   "source": [
    "comp.snapshots"
   ]
  },
  {
   "cell_type": "code",
   "execution_count": 24,
   "id": "0b2beaff",
   "metadata": {},
   "outputs": [
    {
     "name": "stdout",
     "output_type": "stream",
     "text": [
      "{Token('M', linked=False, ord=None), Token('N', linked=False, ord=None)}\n",
      "deque([Token('N', linked=False, ord=None), Token('L', linked=False, ord=None)])\n",
      "deque([Token('M', linked=False, ord=None), Token('N', linked=False, ord=None), Token('L', linked=False, ord=None)])\n",
      "deque([Token('M', linked=False, ord=None), Token('N', linked=False, ord=None)])\n",
      "deque([Token('N', linked=False, ord=None)])\n",
      "deque([])\n"
     ]
    },
    {
     "data": {
      "text/plain": [
       "(48.0, 18.0)"
      ]
     },
     "execution_count": 24,
     "metadata": {},
     "output_type": "execute_result"
    }
   ],
   "source": [
    "lex5 = mem.Lexicon(tokens={I,J,K,L,M,N})\n",
    "result, comp = center_embedded(lex5)\n",
    "comp.cf_mdl, comp.cf_space"
   ]
  },
  {
   "cell_type": "code",
   "execution_count": 25,
   "id": "e890af79",
   "metadata": {},
   "outputs": [],
   "source": [
    "@cognitive_function()\n",
    "def tail_recursive(lexicon): # head-tail\n",
    "\tsequence = mem.Sequence()\n",
    "\tchunker = mem.Mode('attribute1')\n",
    "\tbias = mem.Mode('attribute2')\n",
    "\tbasis = mem.Queue()\n",
    "\thead = pf.sample(lexicon)\n",
    "\tsequence.click(head)\n",
    "\tpf.add(basis, head)\n",
    "\tcandidates = pf.find(lexicon, head, chunker, move=True)\n",
    "\tpf.remove(lexicon, head)\n",
    "\thead.purge()\n",
    "\ttail = pf.sample(candidates)\n",
    "\tcandidates.purge()\n",
    "\tpf.add(basis, tail)\n",
    "\tsequence.click(tail)\n",
    "\tpf.remove(lexicon, tail)\n",
    "\ttail.purge()\n",
    "\tprint(lexicon.tokens)\n",
    "\twhile(lexicon):\n",
    "\t\tpf.loop()\n",
    "\t\tbase = pf.push_out(basis)\n",
    "\t\theads = pf.find(lexicon, base, bias)\n",
    "\t\tprint('heads',heads.tokens)\n",
    "\t\thead = pf.sample(heads)\n",
    "\t\tsequence.click(head)\n",
    "\t\theads.purge()\n",
    "\t\tpf.remove(lexicon, head)\n",
    "\t\tpf.add(basis, base)\n",
    "\t\tbase.purge()\n",
    "\t\ttails = pf.find(lexicon, head, chunker)\n",
    "\t\tprint('tails',tails.tokens)\n",
    "\t\thead.purge()\n",
    "\t\ttail = pf.sample(tails)\n",
    "\t\ttails.purge()\n",
    "\t\tsequence.click(tail)\n",
    "\t\tpf.add(basis, tail)\n",
    "\t\tpf.remove(lexicon, tail)\n",
    "\t\ttail.purge()\n",
    "\t\tprint('lexi',lexicon.tokens)\n",
    "\treturn(sequence)"
   ]
  },
  {
   "cell_type": "code",
   "execution_count": 26,
   "id": "4413e558",
   "metadata": {},
   "outputs": [
    {
     "name": "stdout",
     "output_type": "stream",
     "text": [
      "{Token('J', linked=False, ord=None), Token('I', linked=False, ord=None)}\n",
      "heads {Token('J', linked=False, ord=None)}\n",
      "tails {Token('I', linked=False, ord=None)}\n",
      "lexi set()\n"
     ]
    },
    {
     "data": {
      "text/plain": [
       "(22.0, 12.0)"
      ]
     },
     "execution_count": 26,
     "metadata": {},
     "output_type": "execute_result"
    }
   ],
   "source": [
    "lex4 = mem.Lexicon(tokens={I,J,L,M})\n",
    "result, comp = tail_recursive(lex4)\n",
    "comp.cf_mdl, comp.cf_space"
   ]
  },
  {
   "cell_type": "code",
   "execution_count": 27,
   "id": "baa3f5de",
   "metadata": {},
   "outputs": [
    {
     "name": "stdout",
     "output_type": "stream",
     "text": [
      "{Token('J', linked=False, ord=None), Token('I', linked=False, ord=None), Token('P', linked=False, ord=None), Token('O', linked=False, ord=None)}\n",
      "heads {Token('I', linked=False, ord=None), Token('O', linked=False, ord=None)}\n",
      "tails {Token('J', linked=False, ord=None)}\n",
      "lexi {Token('P', linked=False, ord=None), Token('O', linked=False, ord=None)}\n",
      "heads {Token('O', linked=False, ord=None)}\n",
      "tails {Token('P', linked=False, ord=None)}\n",
      "lexi set()\n"
     ]
    },
    {
     "data": {
      "text/plain": [
       "(35.0, 18.0)"
      ]
     },
     "execution_count": 27,
     "metadata": {},
     "output_type": "execute_result"
    }
   ],
   "source": [
    "lex5 = mem.Lexicon(tokens={I,J,L,M,O,P})\n",
    "result, comp = tail_recursive(lex5)\n",
    "comp.cf_mdl, comp.cf_space"
   ]
  }
 ],
 "metadata": {
  "kernelspec": {
   "display_name": ".lot-venv",
   "language": "python",
   "name": "python3"
  },
  "language_info": {
   "codemirror_mode": {
    "name": "ipython",
    "version": 3
   },
   "file_extension": ".py",
   "mimetype": "text/x-python",
   "name": "python",
   "nbconvert_exporter": "python",
   "pygments_lexer": "ipython3",
   "version": "3.13.2"
  }
 },
 "nbformat": 4,
 "nbformat_minor": 5
}
