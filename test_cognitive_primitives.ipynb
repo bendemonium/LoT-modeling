{
  "cells": [
    {
      "cell_type": "code",
      "execution_count": 1,
      "metadata": {},
      "outputs": [
        {
          "name": "stdout",
          "output_type": "stream",
          "text": [
            "sys.path appended /mnt/data\n"
          ]
        }
      ],
      "source": [
        "# Ensure local project path is on sys.path\n",
        "import sys\n",
        "sys.path.append('/mnt/data')\n",
        "print('sys.path appended /mnt/data')"
      ]
    },
    {
      "cell_type": "code",
      "execution_count": null,
      "metadata": {},
      "outputs": [
        {
          "name": "stdout",
          "output_type": "stream",
          "text": [
            "imports ok\n"
          ]
        }
      ],
      "source": [
        "# Imports\n",
        "import spaceUsedprim as pf\n",
        "import cognitive_functions as cf\n",
        "from utils import Element, ElementSet, Associations\n",
        "import networkx as nx\n",
        "from pprint import pprint\n",
        "print('imports ok')"
      ]
    },
    {
      "cell_type": "code",
      "execution_count": 3,
      "metadata": {},
      "outputs": [
        {
          "name": "stdout",
          "output_type": "stream",
          "text": [
            "ElementSet size: 6\n",
            "attribute1 types: {'red', 'green', 'blue'}\n",
            "attribute2 types: {'circle', 'square', 'triangle'}\n"
          ]
        }
      ],
      "source": [
        "# Build a small set of Elements for tests\n",
        "e1 = Element('A1','red','circle')\n",
        "e2 = Element('A2','blue','square')\n",
        "e3 = Element('B1','red','square')\n",
        "e4 = Element('B2','blue','circle')\n",
        "e5 = Element('C1','green','triangle')\n",
        "e6 = Element('C2','green','triangle')\n",
        "elements = {e1,e2,e3,e4,e5,e6}\n",
        "ES = ElementSet(elements)\n",
        "print('ElementSet size:', len(ES.elements))\n",
        "print('attribute1 types:', ES.attribute1_types())\n",
        "print('attribute2 types:', ES.attribute2_types())"
      ]
    },
    {
      "cell_type": "code",
      "execution_count": 4,
      "metadata": {},
      "outputs": [
        {
          "name": "stdout",
          "output_type": "stream",
          "text": [
            "---- primitives ----\n",
            "pair -> lst: [1, 2, 3] return: (None, 1)\n",
            "append -> [1, 2, 3, 4] space 1\n",
            "flip -> False space 1\n",
            "sample -> 10 space 2\n",
            "add -> [1, 2, 9] space 1\n",
            "remove -> [1, 3] space 1\n",
            "list_create -> len 5 space 1\n",
            "merge -> ['x', 'y'] space 1\n",
            "remove_item -> ['b'] space 1\n",
            "dim_set -> {'red', 'blue'} space 2\n"
          ]
        }
      ],
      "source": [
        "# Test primitive functions (with space reporting where available)\n",
        "print('---- primitives ----')\n",
        "# pair (in-place)\n",
        "lst = [1,2]\n",
        "res = pf.pair(lst, 3, return_space=True)\n",
        "print('pair -> lst:', lst, 'return:', res)\n",
        "# append\n",
        "ap, space = pf.append([1,2],[3,4], return_space=True)\n",
        "print('append ->', ap, 'space', space)\n",
        "# flip\n",
        "val, space = pf.flip(0.5, return_space=True)\n",
        "print('flip ->', val, 'space', space)\n",
        "# sample\n",
        "sval, space = pf.sample(set([10,20,30]), return_space=True)\n",
        "print('sample ->', sval, 'space', space)\n",
        "# add / remove\n",
        "r, sp = pf.add(9, [1,2], return_space=True)\n",
        "print('add ->', r, 'space', sp)\n",
        "r2, sp2 = pf.remove(2, [1,2,3], return_space=True)\n",
        "print('remove ->', r2, 'space', sp2)\n",
        "# list_create/merge\n",
        "lc, sp = pf.list_create(5, return_space=True)\n",
        "print('list_create -> len', len(lc), 'space', sp)\n",
        "m, sp = pf.merge('x','y', return_space=True)\n",
        "print('merge ->', m, 'space', sp)\n",
        "# remove_item\n",
        "ri, sp = pf.remove_item('a', ['a','b'], return_space=True)\n",
        "print('remove_item ->', ri, 'space', sp)\n",
        "# dim_set\n",
        "cls = pf.dim_set(lambda e: getattr(e,'attribute1'))\n",
        "ds, sp = cls([e1,e2,e3], return_space=True)\n",
        "print('dim_set ->', ds, 'space', sp)\n"
      ]
    },
    {
      "cell_type": "code",
      "execution_count": 5,
      "metadata": {},
      "outputs": [
        {
          "name": "stdout",
          "output_type": "stream",
          "text": [
            "graph nodes, edges [Element(object=A1, attribute 1=red, attribute 2=circle), Element(object=A2, attribute 1=blue, attribute 2=square), Element(object=B1, attribute 1=red, attribute 2=square)] [(Element(object=A1, attribute 1=red, attribute 2=circle), Element(object=B1, attribute 1=red, attribute 2=square), {'label': 'precedes'}), (Element(object=A2, attribute 1=blue, attribute 2=square), Element(object=B1, attribute 1=red, attribute 2=square), {'label': 'precedes'})]\n",
            "write_random -> A2, blue, square) space 1\n",
            "write_all -> ['A1', 'B1'] space 2\n",
            "implement -> [2, 2, 2] space 2\n",
            "write_all_set -> a - b - c space 1\n"
          ]
        }
      ],
      "source": [
        "# Test write_random using a small graph\n",
        "G = nx.DiGraph()\n",
        "# nodes will be Element objects\n",
        "G.add_node(e1)\n",
        "G.add_node(e2)\n",
        "G.add_node(e3)\n",
        "# add edges from u -> v with label\n",
        "G.add_edge(e1, e3, label='precedes')\n",
        "G.add_edge(e2, e3, label='precedes')\n",
        "print('graph nodes, edges', G.nodes(), list(G.edges(data=True)))\n",
        "wr, sp = pf.write_random(G, 'precedes', e3, return_space=True)\n",
        "print('write_random ->', wr, 'space', sp)\n",
        "\n",
        "# write_all\n",
        "wa, sp = pf.write_all([e1,e2,e3,e4], 'attribute1', 'red', return_space=True)\n",
        "print('write_all ->', [getattr(x,'name') for x in wa], 'space', sp)\n",
        "\n",
        "# implement (call simple lambda)\n",
        "impl_res, sp = pf.implement(lambda: 1+1, 3, return_space=True)\n",
        "print('implement ->', impl_res, 'space', sp)\n",
        "\n",
        "# write_all_set\n",
        "was, sp = pf.write_all_set({'b','a','c'}, return_space=True)\n",
        "print('write_all_set ->', was, 'space', sp)\n"
      ]
    },
    {
      "cell_type": "code",
      "execution_count": 6,
      "metadata": {},
      "outputs": [
        {
          "name": "stdout",
          "output_type": "stream",
          "text": [
            "\n",
            "---- cognitive functions ----\n"
          ]
        },
        {
          "ename": "NameError",
          "evalue": "name '_items_from_S' is not defined",
          "output_type": "error",
          "traceback": [
            "\u001b[1;31m---------------------------------------------------------------------------\u001b[0m",
            "\u001b[1;31mNameError\u001b[0m                                 Traceback (most recent call last)",
            "Cell \u001b[1;32mIn[6], line 7\u001b[0m\n\u001b[0;32m      4\u001b[0m     \u001b[38;5;28;01mreturn\u001b[39;00m ElementSet({Element(\u001b[38;5;124m'\u001b[39m\u001b[38;5;124mA1\u001b[39m\u001b[38;5;124m'\u001b[39m,\u001b[38;5;124m'\u001b[39m\u001b[38;5;124mred\u001b[39m\u001b[38;5;124m'\u001b[39m,\u001b[38;5;124m'\u001b[39m\u001b[38;5;124mcircle\u001b[39m\u001b[38;5;124m'\u001b[39m), Element(\u001b[38;5;124m'\u001b[39m\u001b[38;5;124mA2\u001b[39m\u001b[38;5;124m'\u001b[39m,\u001b[38;5;124m'\u001b[39m\u001b[38;5;124mblue\u001b[39m\u001b[38;5;124m'\u001b[39m,\u001b[38;5;124m'\u001b[39m\u001b[38;5;124msquare\u001b[39m\u001b[38;5;124m'\u001b[39m), Element(\u001b[38;5;124m'\u001b[39m\u001b[38;5;124mB1\u001b[39m\u001b[38;5;124m'\u001b[39m,\u001b[38;5;124m'\u001b[39m\u001b[38;5;124mred\u001b[39m\u001b[38;5;124m'\u001b[39m,\u001b[38;5;124m'\u001b[39m\u001b[38;5;124msquare\u001b[39m\u001b[38;5;124m'\u001b[39m), Element(\u001b[38;5;124m'\u001b[39m\u001b[38;5;124mB2\u001b[39m\u001b[38;5;124m'\u001b[39m,\u001b[38;5;124m'\u001b[39m\u001b[38;5;124mblue\u001b[39m\u001b[38;5;124m'\u001b[39m,\u001b[38;5;124m'\u001b[39m\u001b[38;5;124mcircle\u001b[39m\u001b[38;5;124m'\u001b[39m), Element(\u001b[38;5;124m'\u001b[39m\u001b[38;5;124mC1\u001b[39m\u001b[38;5;124m'\u001b[39m,\u001b[38;5;124m'\u001b[39m\u001b[38;5;124mgreen\u001b[39m\u001b[38;5;124m'\u001b[39m,\u001b[38;5;124m'\u001b[39m\u001b[38;5;124mtriangle\u001b[39m\u001b[38;5;124m'\u001b[39m), Element(\u001b[38;5;124m'\u001b[39m\u001b[38;5;124mC2\u001b[39m\u001b[38;5;124m'\u001b[39m,\u001b[38;5;124m'\u001b[39m\u001b[38;5;124mgreen\u001b[39m\u001b[38;5;124m'\u001b[39m,\u001b[38;5;124m'\u001b[39m\u001b[38;5;124mtriangle\u001b[39m\u001b[38;5;124m'\u001b[39m)})\n\u001b[0;32m      6\u001b[0m ES1 \u001b[38;5;241m=\u001b[39m fresh_set()\n\u001b[1;32m----> 7\u001b[0m it_res \u001b[38;5;241m=\u001b[39m \u001b[43mcf\u001b[49m\u001b[38;5;241;43m.\u001b[39;49m\u001b[43miterate\u001b[49m\u001b[43m(\u001b[49m\u001b[43mES1\u001b[49m\u001b[43m)\u001b[49m\n\u001b[0;32m      8\u001b[0m \u001b[38;5;28mprint\u001b[39m(\u001b[38;5;124m'\u001b[39m\u001b[38;5;124miterate -> result len\u001b[39m\u001b[38;5;124m'\u001b[39m, \u001b[38;5;28mlen\u001b[39m(it_res[\u001b[38;5;241m0\u001b[39m]) \u001b[38;5;28;01mif\u001b[39;00m it_res[\u001b[38;5;241m0\u001b[39m] \u001b[38;5;28;01melse\u001b[39;00m \u001b[38;5;28;01mNone\u001b[39;00m, \u001b[38;5;124m'\u001b[39m\u001b[38;5;124mtime\u001b[39m\u001b[38;5;124m'\u001b[39m, it_res[\u001b[38;5;241m1\u001b[39m])\n\u001b[0;32m     10\u001b[0m ES2 \u001b[38;5;241m=\u001b[39m fresh_set()\n",
            "File \u001b[1;32mc:\\localpython\\lot_25\\LoT-modeling\\cognitive_functions.py:8\u001b[0m, in \u001b[0;36miterate\u001b[1;34m(S)\u001b[0m\n\u001b[0;32m      7\u001b[0m \u001b[38;5;28;01mdef\u001b[39;00m\u001b[38;5;250m \u001b[39m\u001b[38;5;21miterate\u001b[39m(S: ElementSet):     \u001b[38;5;66;03m# 112233    \u001b[39;00m\n\u001b[1;32m----> 8\u001b[0m     items \u001b[38;5;241m=\u001b[39m \u001b[43m_items_from_S\u001b[49m(S)\n\u001b[0;32m      9\u001b[0m     sc_obj \u001b[38;5;241m=\u001b[39m SpaceComplexity()\n\u001b[0;32m     11\u001b[0m     \u001b[38;5;66;03m# preprocessing (not part of measured cognitive process)\u001b[39;00m\n",
            "\u001b[1;31mNameError\u001b[0m: name '_items_from_S' is not defined"
          ]
        }
      ],
      "source": [
        "print('\\n---- cognitive functions ----')\n",
        "# Make a fresh copy of elements for each test because functions remove from sets\n",
        "def fresh_set():\n",
        "    return ElementSet({Element('A1','red','circle'), Element('A2','blue','square'), Element('B1','red','square'), Element('B2','blue','circle'), Element('C1','green','triangle'), Element('C2','green','triangle')})\n",
        "\n",
        "ES1 = fresh_set()\n",
        "it_res = cf.iterate(ES1)\n",
        "print('iterate -> result len', len(it_res[0]) if it_res[0] else None, 'time', it_res[1])\n",
        "\n",
        "ES2 = fresh_set()\n",
        "pal_res = cf.palindrome(ES2)\n",
        "print('palindrome -> result len', len(pal_res[0]) if pal_res[0] else None, 'time', pal_res[1])\n",
        "\n",
        "ES3 = fresh_set()\n",
        "alt_res = cf.alternate(ES3)\n",
        "print('alternate -> result len', len(alt_res[0]) if alt_res[0] else None, 'time', alt_res[1])\n",
        "\n",
        "# chaining needs explicit associations mapping (Element -> Element)\n",
        "ES4 = fresh_set()\n",
        "elems_list = list(ES4.elements)\n",
        "assoc = {elems_list[0]: elems_list[1], elems_list[2]: elems_list[3]}\n",
        "chain_res = cf.chaining(ES4, assoc)\n",
        "print('chaining -> chunks count', len(chain_res[0]) if chain_res[0] else 0, 'time', chain_res[1])\n",
        "\n",
        "ES5 = fresh_set()\n",
        "sc_res = cf.serial_crossed(ES5)\n",
        "print('serial_crossed -> result len', len(sc_res[0]) if sc_res[0] else None, 'time', sc_res[1])\n",
        "\n",
        "ES6 = fresh_set()\n",
        "ce_res = cf.center_embedded(ES6)\n",
        "print('center_embedded -> result len', len(ce_res[0]) if ce_res[0] else None, 'time', ce_res[1])\n",
        "\n",
        "ES7 = fresh_set()\n",
        "tr_res = cf.tail_recursive(ES7)\n",
        "print('tail_recursive -> result len', len(tr_res[0]) if tr_res[0] else None, 'time', tr_res[1])\n",
        "\n",
        "print('\\nAll tests finished.')\n"
      ]
    }
  ],
  "metadata": {
    "kernelspec": {
      "display_name": "Python 3",
      "language": "python",
      "name": "python3"
    },
    "language_info": {
      "codemirror_mode": {
        "name": "ipython",
        "version": 3
      },
      "file_extension": ".py",
      "mimetype": "text/x-python",
      "name": "python",
      "nbconvert_exporter": "python",
      "pygments_lexer": "ipython3",
      "version": "3.12.4"
    }
  },
  "nbformat": 4,
  "nbformat_minor": 5
}
